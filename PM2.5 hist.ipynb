{
 "cells": [
  {
   "cell_type": "code",
   "execution_count": 17,
   "id": "7ce4aef4-1cd9-407e-8513-195ffe9fda54",
   "metadata": {},
   "outputs": [],
   "source": [
    "import matplotlib.pyplot as plt \n",
    "import csv \n",
    "import pandas as pd"
   ]
  },
  {
   "cell_type": "code",
   "execution_count": 51,
   "id": "50499405-2ddb-47f1-826a-665f7884bf14",
   "metadata": {},
   "outputs": [],
   "source": [
    "#url = 'https://dl.dropboxusercontent.com/s/tc6s7f6xl05kwzh/etch_roof.csv?dl=1'\n",
    "\n",
    "data = pd.read_csv('PM_Ada.csv')\n",
    "#file = open(\"PM_Ada.csv\", \"r\", newline=None)\n",
    "#PM_25 = \n",
    "#data = pd.read_csv(\"PM_Ada.csv\")\n",
    "#data = csv.reader(PM_Ada.csv)\n",
    "x = data['PM2.5']"
   ]
  },
  {
   "cell_type": "code",
   "execution_count": 53,
   "id": "4b249b5d-c07b-4145-a9c9-8614c64f585f",
   "metadata": {},
   "outputs": [
    {
     "data": {
      "text/plain": [
       "(array([ 0.,  0.,  0.,  0.,  0., 11.,  0.,  0.,  0.,  0.]),\n",
       " array([-0.5, -0.4, -0.3, -0.2, -0.1,  0. ,  0.1,  0.2,  0.3,  0.4,  0.5]),\n",
       " <BarContainer object of 10 artists>)"
      ]
     },
     "execution_count": 53,
     "metadata": {},
     "output_type": "execute_result"
    },
    {
     "data": {
      "image/png": "[encoded data removed]",
      "text/plain": [
       "<Figure size 640x480 with 1 Axes>"
      ]
     },
     "metadata": {},
     "output_type": "display_data"
    }
   ],
   "source": [
    "plt.hist(x)"
   ]
  },
  {
   "cell_type": "code",
   "execution_count": null,
   "id": "07c939d3-4499-48f1-9333-972d3e15e65a",
   "metadata": {},
   "outputs": [],
   "source": []
  }
 ],
 "metadata": {
  "kernelspec": {
   "display_name": "Python [conda env:base] *",
   "language": "python",
   "name": "conda-base-py"
  },
  "language_info": {
   "codemirror_mode": {
    "name": "ipython",
    "version": 3
   },
   "file_extension": ".py",
   "mimetype": "text/x-python",
   "name": "python",
   "nbconvert_exporter": "python",
   "pygments_lexer": "ipython3",
   "version": "3.12.7"
  }
 },
 "nbformat": 4,
 "nbformat_minor": 5
}
